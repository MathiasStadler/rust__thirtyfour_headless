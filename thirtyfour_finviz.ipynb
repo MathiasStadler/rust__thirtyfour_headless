{
 "cells": [
  {
   "cell_type": "markdown",
   "metadata": {},
   "source": [
    "# [modified this approach for scrapping data from website e.g. finviz.com](https://github.com/Ulyssedev/Rust-undetected-chromedriver/blob/main/tests/recaptcha.rs) "
   ]
  },
  {
   "cell_type": "markdown",
   "metadata": {},
   "source": [
    "- web page scraping\n",
    "- automated\n",
    "- headless\n",
    "- chrome driver\n",
    "- xvfb-run\n"
   ]
  },
  {
   "cell_type": "markdown",
   "metadata": {},
   "source": [
    "load crates"
   ]
  },
  {
   "cell_type": "code",
   "execution_count": 3,
   "metadata": {
    "vscode": {
     "languageId": "rust"
    }
   },
   "outputs": [],
   "source": [
    "\n",
    ":dep tokio = \"1.32.0\"\n",
    ":dep thirtyfour = \"0.31.0\"\n",
    ":dep undetected-chromedriver = \"0.1.2\""
   ]
  },
  {
   "cell_type": "markdown",
   "metadata": {},
   "source": [
    "- function test, setup test"
   ]
  },
  {
   "cell_type": "code",
   "execution_count": 4,
   "metadata": {
    "vscode": {
     "languageId": "rust"
    }
   },
   "outputs": [],
   "source": [
    "#[cfg(test)]\n",
    "mod tests {\n",
    "    use thirtyfour::prelude::{ElementQueryable, ElementWaitable};\n",
    "    use thirtyfour::By;\n",
    "    use undetected_chromedriver::chrome;\n",
    "\n",
    "    async fn get_score(driver: &thirtyfour::WebDriver) -> Option<f32> {\n",
    "        driver\n",
    "            .goto(\"https://recaptcha-demo.appspot.com/recaptcha-v3-request-scores.php\")\n",
    "            .await\n",
    "            .unwrap();\n",
    "        let button = driver\n",
    "            .query(By::XPath(r#\"//*[@id=\"recaptcha-steps\"]/li[2]/button[2]\"#))\n",
    "            .first()\n",
    "            .await\n",
    "            .unwrap();\n",
    "        button.wait_until().clickable().await.unwrap();\n",
    "        button.click().await.unwrap();\n",
    "        let response = driver\n",
    "            .query(By::XPath(r#\"//*[@id=\"recaptcha-steps\"]/li[5]/pre\"#))\n",
    "            .first()\n",
    "            .await\n",
    "            .unwrap();\n",
    "        response.wait_until().displayed().await.unwrap();\n",
    "        println!(\"reponse: {}\", response.text().await.unwrap());\n",
    "        let response_text = response.text().await.unwrap();\n",
    "        let score = response_text\n",
    "            .lines()\n",
    "            .find(|line| line.contains(\"\\\"score\\\":\"))\n",
    "            .and_then(|line| {\n",
    "                let start_index = line.find(':')?;\n",
    "                let end_index = line.find(',')?;\n",
    "                line.get(start_index + 1..end_index)\n",
    "            })\n",
    "            .and_then(|score_str| score_str.trim().parse::<f32>().ok());\n",
    "        score\n",
    "    }\n",
    "\n",
    "    #[tokio::test]\n",
    "    async fn recaptcha() {\n",
    "        let driver = chrome().await.unwrap();\n",
    "        let score = get_score(&driver).await;\n",
    "        assert!(score.unwrap_or(0.0) >= 0.7);\n",
    "        driver.quit().await.unwrap();\n",
    "    }\n",
    "}"
   ]
  }
 ],
 "metadata": {
  "kernelspec": {
   "display_name": "Rust",
   "language": "rust",
   "name": "rust"
  },
  "language_info": {
   "codemirror_mode": "rust",
   "file_extension": ".rs",
   "mimetype": "text/rust",
   "name": "Rust",
   "pygment_lexer": "rust",
   "version": ""
  },
  "orig_nbformat": 4
 },
 "nbformat": 4,
 "nbformat_minor": 2
}
